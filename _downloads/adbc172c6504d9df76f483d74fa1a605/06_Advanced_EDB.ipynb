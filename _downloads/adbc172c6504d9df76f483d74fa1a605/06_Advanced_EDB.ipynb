{
  "cells": [
    {
      "cell_type": "code",
      "execution_count": null,
      "metadata": {
        "collapsed": false
      },
      "outputs": [],
      "source": [
        "%matplotlib inline"
      ]
    },
    {
      "cell_type": "markdown",
      "metadata": {},
      "source": [
        "\n# EDB: parametric via creation\nThis example shows how to use EDB to create a layout.\n"
      ]
    },
    {
      "cell_type": "code",
      "execution_count": null,
      "metadata": {
        "collapsed": false
      },
      "outputs": [],
      "source": [
        "# sphinx_gallery_thumbnail_path = 'Resources/viawizard.png'\n\nimport os\nimport numpy as np\nimport tempfile\nfrom pyaedt import Edb\nfrom pyaedt.generic.general_methods import generate_unique_name\n\ntmpfold = tempfile.gettempdir()\nif not os.path.exists(tmpfold):\n    os.mkdir(tmpfold)\naedb_path = os.path.join(tmpfold, generate_unique_name(\"via_opt\") + \".aedb\")"
      ]
    },
    {
      "cell_type": "markdown",
      "metadata": {},
      "source": [
        "## Create stackup\nThe ``StackupSimple`` class creates a stackup based on few inputs. It is used later.\n\n"
      ]
    },
    {
      "cell_type": "code",
      "execution_count": null,
      "metadata": {
        "collapsed": false
      },
      "outputs": [],
      "source": [
        "class StackupSimple:\n    \"\"\"Creates a typical PCB stackup\"\"\"\n\n    def __init__(\n        self,\n        _edb,\n        layer_count,\n        diel_material_name=\"FR4_epoxy\",\n        diel_thickness=\"0.15mm\",\n        cond_thickness_outer=\"0.05mm\",\n        cond_thickness_inner=\"0.017mm\",\n        soldermask_thickness=\"0.05mm\",\n    ):\n        \"\"\"\n\n        Parameters\n        ----------\n        _edb : Edb\n        layer_count : int\n            The number of stackup layers\n        diel_material_name : str\n            The name of the dielectric material defined in material library\n        diel_thickness : str\n            Thickess os all dielectric layers\n        cond_thickness_outer : str\n            Outer layer conductor thickness\n        cond_thickness_inner : str\n            Inner layour conductor thickness\n        soldermask_thickness : str\n            Soldermask thickness\n        \"\"\"\n        self._edb = _edb\n        self.layer_count = layer_count\n        self.diel_material_name = diel_material_name\n        self.diel_thickness = diel_thickness\n        self.cond_thickness_outer = cond_thickness_outer\n        self.cond_thickness_inner = cond_thickness_inner\n        self.soldermask_thickness = soldermask_thickness\n\n    def create_stackup(self):\n        self._create_stackup_layer_list()\n        self._edb_create_stackup()\n\n    def _create_stackup_layer_list(self):\n        self.stackup_list = []\n\n        # Create top soldermask layer\n        smt = {\"layer_type\": 1, \"layer_name\": \"SMT\", \"material\": \"SolderMask\", \"thickness\": self.soldermask_thickness}\n        self.stackup_list.append(smt)\n\n        for i in np.arange(1, self.layer_count + 1):\n\n            # Create conductor layer\n            fill_material = self.diel_material_name\n\n            if i in [1, self.layer_count]:\n                thickness = self.cond_thickness_outer\n                fill_material = \"SolderMask\"\n            else:\n                thickness = self.cond_thickness_inner\n\n            cond_layer = {\n                \"layer_type\": 0,\n                \"layer_name\": \"L{}\".format(str(i)),\n                \"fill_material\": fill_material,\n                \"thickness\": thickness,\n            }\n            self.stackup_list.append(cond_layer)\n\n            # Check if it is the last conductor layer\n            if i == self.layer_count:\n                break\n\n            # Create dielectric layer\n            diel_material = self.diel_material_name\n            diel_thickness = self.diel_thickness\n\n            dielectric_layer = {\n                \"layer_type\": 1,\n                \"layer_name\": \"D{}\".format(str(i)),\n                \"material\": diel_material,\n                \"thickness\": diel_thickness,\n            }\n            self.stackup_list.append(dielectric_layer)\n\n        # Create bottom soldermask layer\n        smb = {\"layer_type\": 1, \"layer_name\": \"SMB\", \"material\": \"SolderMask\", \"thickness\": self.soldermask_thickness}\n        self.stackup_list.append(smb)\n\n    def _edb_create_stackup(self):\n        base_layer = None\n        while len(self.stackup_list):\n\n            layer = self.stackup_list.pop(-1)\n            if layer[\"layer_type\"] == 1:\n\n                self._edb.core_stackup.stackup_layers.add_layer(\n                    layerName=layer[\"layer_name\"],\n                    start_layer=base_layer,\n                    material=layer[\"material\"],\n                    thickness=layer[\"thickness\"],\n                    layerType=1,\n                )\n                base_layer = layer[\"layer_name\"]\n            else:\n\n                self._edb.core_stackup.stackup_layers.add_layer(\n                    layerName=layer[\"layer_name\"],\n                    start_layer=base_layer,\n                    material=\"copper\",\n                    fillMaterial=layer[\"fill_material\"],\n                    thickness=layer[\"thickness\"],\n                    layerType=0,\n                )\n                base_layer = layer[\"layer_name\"]"
      ]
    },
    {
      "cell_type": "markdown",
      "metadata": {},
      "source": [
        "## Create ground plane\nCreate a ground plane on specific layers.\n\n"
      ]
    },
    {
      "cell_type": "code",
      "execution_count": null,
      "metadata": {
        "collapsed": false
      },
      "outputs": [],
      "source": [
        "def _create_ground_planes(edb, layers):\n    plane = edb.core_primitives.Shape(\"rectangle\", pointA=[\"-3mm\", \"-3mm\"], pointB=[\"3mm\", \"3mm\"])\n    for i in layers:\n        edb.core_primitives.create_polygon(plane, i, net_name=\"GND\")"
      ]
    },
    {
      "cell_type": "markdown",
      "metadata": {},
      "source": [
        "## Create EDB\nCreate EDB. If the path doesn't exist, PyAEDT automatically generates a new AEDB folder.\n\n"
      ]
    },
    {
      "cell_type": "code",
      "execution_count": null,
      "metadata": {
        "collapsed": false
      },
      "outputs": [],
      "source": [
        "edb = Edb(edbpath=aedb_path, edbversion=\"2022.2\")"
      ]
    },
    {
      "cell_type": "markdown",
      "metadata": {},
      "source": [
        "## Create stackup layers\nCreate stackup layers.\n\n"
      ]
    },
    {
      "cell_type": "code",
      "execution_count": null,
      "metadata": {
        "collapsed": false
      },
      "outputs": [],
      "source": [
        "layout_count = 12\ndiel_material_name = \"FR4_epoxy\"\ndiel_thickness = \"0.15mm\"\ncond_thickness_outer = \"0.05mm\"\ncond_thickness_inner = \"0.017mm\"\nsoldermask_thickness = \"0.05mm\"\ntrace_in_layer = \"L1\"\ntrace_out_layer = \"L10\"\ngvia_num = 10\ngvia_angle = 30\n\nStackupSimple(\n    edb,\n    layer_count=layout_count,\n    diel_material_name=diel_material_name,\n    diel_thickness=diel_thickness,\n    cond_thickness_outer=cond_thickness_outer,\n    cond_thickness_inner=cond_thickness_inner,\n    soldermask_thickness=soldermask_thickness,\n).create_stackup()"
      ]
    },
    {
      "cell_type": "markdown",
      "metadata": {},
      "source": [
        "## Create parameters\nCreate all variables. If a variable has a ``$`` prefix, it is a project variable.\nOtherwise, is is a design variable.\n\n"
      ]
    },
    {
      "cell_type": "code",
      "execution_count": null,
      "metadata": {
        "collapsed": false
      },
      "outputs": [],
      "source": [
        "giva_angle_rad = gvia_angle / 180 * np.pi\n\nedb.add_design_variable(\"$via_hole_size\", \"0.3mm\")\nedb.add_design_variable(\"$antipaddiam\", \"0.7mm\")\nedb.add_design_variable(\"$paddiam\", \"0.5mm\")\nedb.add_design_variable(\"via_pitch\", \"1mm\", is_parameter=True)\nedb.add_design_variable(\"trace_in_width\", \"0.2mm\", is_parameter=True)\nedb.add_design_variable(\"trace_out_width\", \"0.1mm\", is_parameter=True)"
      ]
    },
    {
      "cell_type": "markdown",
      "metadata": {},
      "source": [
        "## Create padstacks\nCreate two padstacks, one for the ground and one for the signal. The padstacks\nare parametric.\n\n"
      ]
    },
    {
      "cell_type": "code",
      "execution_count": null,
      "metadata": {
        "collapsed": false
      },
      "outputs": [],
      "source": [
        "edb.core_padstack.create_padstack(\n    padstackname=\"SVIA\", holediam=\"$via_hole_size\", antipaddiam=\"$antipaddiam\", paddiam=\"$paddiam\"\n)\nedb.core_padstack.create_padstack(padstackname=\"GVIA\", holediam=\"0.3mm\", antipaddiam=\"0.7mm\", paddiam=\"0.5mm\")"
      ]
    },
    {
      "cell_type": "markdown",
      "metadata": {},
      "source": [
        "## Place padstack for signal\nPlace the padstack for the signal.\n\n"
      ]
    },
    {
      "cell_type": "code",
      "execution_count": null,
      "metadata": {
        "collapsed": false
      },
      "outputs": [],
      "source": [
        "edb.core_padstack.place_padstack([0, 0], \"SVIA\", net_name=\"RF\", fromlayer=trace_in_layer, tolayer=trace_out_layer)"
      ]
    },
    {
      "cell_type": "markdown",
      "metadata": {},
      "source": [
        "## Place padstack for ground\nPlace the padstack for the  ground. A loop iterates and places multiple ground\nvias on different positions.\n\n"
      ]
    },
    {
      "cell_type": "code",
      "execution_count": null,
      "metadata": {
        "collapsed": false
      },
      "outputs": [],
      "source": [
        "gvia_num_side = gvia_num / 2\n\nif gvia_num_side % 2:\n\n    # Even number of ground vias on each side\n    edb.core_padstack.place_padstack([\"via_pitch\", 0], \"GVIA\", net_name=\"GND\")\n    edb.core_padstack.place_padstack([\"via_pitch*-1\", 0], \"GVIA\", net_name=\"GND\")\n    for i in np.arange(1, gvia_num_side / 2):\n        xloc = \"{}*{}\".format(np.cos(giva_angle_rad * i), \"via_pitch\")\n        yloc = \"{}*{}\".format(np.sin(giva_angle_rad * i), \"via_pitch\")\n        edb.core_padstack.place_padstack([xloc, yloc], \"GVIA\", net_name=\"GND\")\n        edb.core_padstack.place_padstack([xloc, yloc + \"*-1\"], \"GVIA\", net_name=\"GND\")\n\n        edb.core_padstack.place_padstack([xloc + \"*-1\", yloc], \"GVIA\", net_name=\"GND\")\n        edb.core_padstack.place_padstack([xloc + \"*-1\", yloc + \"*-1\"], \"GVIA\", net_name=\"GND\")\nelse:\n\n    # Odd number of ground vias on each side\n    for i in np.arange(0, gvia_num_side / 2):\n        xloc = \"{}*{}\".format(np.cos(giva_angle_rad * (i + 0.5)), \"via_pitch\")\n        yloc = \"{}*{}\".format(np.sin(giva_angle_rad * (i + 0.5)), \"via_pitch\")\n        edb.core_padstack.place_padstack([xloc, yloc], \"GVIA\", net_name=\"GND\")\n        edb.core_padstack.place_padstack([xloc, yloc + \"*-1\"], \"GVIA\", net_name=\"GND\")\n\n        edb.core_padstack.place_padstack([xloc + \"*-1\", yloc], \"GVIA\", net_name=\"GND\")\n        edb.core_padstack.place_padstack([xloc + \"*-1\", yloc + \"*-1\"], \"GVIA\", net_name=\"GND\")"
      ]
    },
    {
      "cell_type": "markdown",
      "metadata": {},
      "source": [
        "## Generate traces\nGenerate and place parametric traces.\n\n"
      ]
    },
    {
      "cell_type": "code",
      "execution_count": null,
      "metadata": {
        "collapsed": false
      },
      "outputs": [],
      "source": [
        "path = edb.core_primitives.Shape(\"polygon\", points=[[0, 0], [0, \"-3mm\"]])\nedb.core_primitives.create_path(\n    path, layer_name=trace_in_layer, net_name=\"RF\", width=\"trace_in_width\", start_cap_style=\"Flat\", end_cap_style=\"Flat\"\n)\n\npath = edb.core_primitives.Shape(\"polygon\", points=[[0, 0], [0, \"3mm\"]])\nedb.core_primitives.create_path(\n    path,\n    layer_name=trace_out_layer,\n    net_name=\"RF\",\n    width=\"trace_out_width\",\n    start_cap_style=\"Flat\",\n    end_cap_style=\"Flat\",\n)"
      ]
    },
    {
      "cell_type": "markdown",
      "metadata": {},
      "source": [
        "## Generate ground layers\nGeneerate and place ground layers.\n\n"
      ]
    },
    {
      "cell_type": "code",
      "execution_count": null,
      "metadata": {
        "collapsed": false
      },
      "outputs": [],
      "source": [
        "ground_layers = [\"L\" + str(i + 1) for i in np.arange(layout_count)]\nground_layers.remove(trace_in_layer)\nground_layers.remove(trace_out_layer)\n_create_ground_planes(edb=edb, layers=ground_layers)"
      ]
    },
    {
      "cell_type": "markdown",
      "metadata": {},
      "source": [
        "## Save EDB and close\nSave EDB and close.\n\n"
      ]
    },
    {
      "cell_type": "code",
      "execution_count": null,
      "metadata": {
        "collapsed": false
      },
      "outputs": [],
      "source": [
        "edb.save_edb()\nedb.close_edb()\n\nprint(\"aedb Saved in {}\".format(aedb_path))"
      ]
    }
  ],
  "metadata": {
    "kernelspec": {
      "display_name": "Python 3",
      "language": "python",
      "name": "python3"
    },
    "language_info": {
      "codemirror_mode": {
        "name": "ipython",
        "version": 3
      },
      "file_extension": ".py",
      "mimetype": "text/x-python",
      "name": "python",
      "nbconvert_exporter": "python",
      "pygments_lexer": "ipython3",
      "version": "3.8.10"
    }
  },
  "nbformat": 4,
  "nbformat_minor": 0
}