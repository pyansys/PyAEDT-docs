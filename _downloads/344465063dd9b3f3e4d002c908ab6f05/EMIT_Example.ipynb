{
  "cells": [
    {
      "cell_type": "code",
      "execution_count": null,
      "metadata": {
        "collapsed": false
      },
      "outputs": [],
      "source": [
        "%matplotlib inline"
      ]
    },
    {
      "cell_type": "markdown",
      "metadata": {},
      "source": [
        "\n# EMIT: antenna\nThis tutorial shows how you can use PyAEDT to create a project in EMIT for\na simulation of an attenna.\n"
      ]
    },
    {
      "cell_type": "markdown",
      "metadata": {},
      "source": [
        "sphinx_gallery_thumbnail_path = 'Resources/emit.png'\nPerform required inputs\n~~~~~~~~~~~~~~~~~~~~~~~\nPerform required imports.\n\n"
      ]
    },
    {
      "cell_type": "code",
      "execution_count": null,
      "metadata": {
        "collapsed": false
      },
      "outputs": [],
      "source": [
        "import os\nfrom pyaedt import Emit\nfrom pyaedt import Desktop"
      ]
    },
    {
      "cell_type": "markdown",
      "metadata": {},
      "source": [
        "## Specify initialization settings\nChange the ``non_graphical`` Boolean variable to ``False`` to open AEDT in\ngraphical mode. With ``NewThread = False``, an existing instance of AEDT\nis used if one is available. The following code uses AEDT 2022 R2.\n\n"
      ]
    },
    {
      "cell_type": "code",
      "execution_count": null,
      "metadata": {
        "collapsed": false
      },
      "outputs": [],
      "source": [
        "non_graphical = os.getenv(\"PYAEDT_NON_GRAPHICAL\", \"False\").lower() in (\"true\", \"1\", \"t\")\nNewThread = False\ndesktop_version = \"2022.2\""
      ]
    },
    {
      "cell_type": "markdown",
      "metadata": {},
      "source": [
        "## Launch AEDT with EMIT\nLaunch AEDT with EMIT. The ``Desktop`` class initializes AEDT and starts it\non the specified version and in the specified graphical mode. The ``NewThread``\nBoolean variable defines whether to create a new instance of AEDT or try to\nconnect to existing instance of it if one is available.\n\n"
      ]
    },
    {
      "cell_type": "code",
      "execution_count": null,
      "metadata": {
        "collapsed": false
      },
      "outputs": [],
      "source": [
        "d = Desktop(desktop_version, non_graphical, NewThread)\naedtapp = Emit()"
      ]
    },
    {
      "cell_type": "markdown",
      "metadata": {},
      "source": [
        "## Create and connect EMIT components\nCreate three radios and connect an antenna to each one.\n\n"
      ]
    },
    {
      "cell_type": "code",
      "execution_count": null,
      "metadata": {
        "collapsed": false
      },
      "outputs": [],
      "source": [
        "rad1 = aedtapp.modeler.components.create_component(\"UE - Handheld\")\nant1 = aedtapp.modeler.components.create_component(\"Antenna\")\nif rad1 and ant1:\n    ant1.move_and_connect_to(rad1)\n\nrad2 = aedtapp.modeler.components.create_component(\"GPS Receiver\")\nant2 = aedtapp.modeler.components.create_component(\"Antenna\")\nif rad2 and ant2:\n    ant2.move_and_connect_to(rad2)\n\nrad3 = aedtapp.modeler.components.create_component(\"Bluetooth\")\nant3 = aedtapp.modeler.components.create_component(\"Antenna\")\nif rad3 and ant3:\n    ant3.move_and_connect_to(rad3)"
      ]
    },
    {
      "cell_type": "markdown",
      "metadata": {},
      "source": [
        "## Define coupling among RF systems\nDefine the coupling among the RF systems. This portion of the EMIT API is not\nyet implemented.\n\n"
      ]
    },
    {
      "cell_type": "markdown",
      "metadata": {},
      "source": [
        "## Run EMIT simulation\nRun the EMIT simulation. This portion of the EMIT API is not yet implemented.\n\n"
      ]
    },
    {
      "cell_type": "markdown",
      "metadata": {},
      "source": [
        "## Save project and close AEDT\nAfter the simulaton completes, you can close AEDT or release it using the\n:func:`pyaedt.Desktop.force_close_desktop` method.\nAll methods provide for saving the project before closing.\n\n"
      ]
    },
    {
      "cell_type": "code",
      "execution_count": null,
      "metadata": {
        "collapsed": false
      },
      "outputs": [],
      "source": [
        "aedtapp.save_project()\naedtapp.release_desktop(close_projects=True, close_desktop=True)"
      ]
    }
  ],
  "metadata": {
    "kernelspec": {
      "display_name": "Python 3",
      "language": "python",
      "name": "python3"
    },
    "language_info": {
      "codemirror_mode": {
        "name": "ipython",
        "version": 3
      },
      "file_extension": ".py",
      "mimetype": "text/x-python",
      "name": "python",
      "nbconvert_exporter": "python",
      "pygments_lexer": "ipython3",
      "version": "3.8.10"
    }
  },
  "nbformat": 4,
  "nbformat_minor": 0
}