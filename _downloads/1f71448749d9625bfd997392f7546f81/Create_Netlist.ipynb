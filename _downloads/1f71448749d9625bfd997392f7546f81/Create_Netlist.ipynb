{
  "cells": [
    {
      "cell_type": "code",
      "execution_count": null,
      "metadata": {
        "collapsed": false
      },
      "outputs": [],
      "source": [
        "%matplotlib inline"
      ]
    },
    {
      "cell_type": "markdown",
      "metadata": {},
      "source": [
        "\n# Circuit: netlist to schematic iport\n# This example shows how to import netlist data into a circuit design.\n# HSPICE files are supported. Mentor files are partially supported.\n"
      ]
    },
    {
      "cell_type": "markdown",
      "metadata": {},
      "source": [
        "## Perform required imports\nPerform required imports and set paths.\n\n"
      ]
    },
    {
      "cell_type": "code",
      "execution_count": null,
      "metadata": {
        "collapsed": false
      },
      "outputs": [],
      "source": [
        "# sphinx_gallery_thumbnail_path = 'Resources/schematic.png'\nimport os\n\n# Import required modules\nfrom pyaedt import examples\nimport tempfile\n\nnetlist = examples.download_netlist()\nfrom pyaedt import generate_unique_name\n\n# Set local path to path for PyAEDT\ntmpfold = tempfile.gettempdir()\ntemp_folder = os.path.join(tmpfold, generate_unique_name(\"Example\"))\nif not os.path.exists(temp_folder):\n    os.makedirs(temp_folder)\nmyfile = os.path.join(netlist)\nprint(temp_folder)"
      ]
    },
    {
      "cell_type": "markdown",
      "metadata": {},
      "source": [
        "## Import main classes\nImport the main classes that are needed: :class:`pyaedt.Desktop` and :class:`pyaedt.Circuit`.\n\n"
      ]
    },
    {
      "cell_type": "code",
      "execution_count": null,
      "metadata": {
        "collapsed": false
      },
      "outputs": [],
      "source": [
        "from pyaedt import Circuit\nfrom pyaedt import Desktop"
      ]
    },
    {
      "cell_type": "markdown",
      "metadata": {},
      "source": [
        "## Launch AEDT\nLaunch AEDT 2022 R2 in graphical mode. This example uses SI units.\n\n"
      ]
    },
    {
      "cell_type": "code",
      "execution_count": null,
      "metadata": {
        "collapsed": false
      },
      "outputs": [],
      "source": [
        "desktopVersion = \"2022.2\""
      ]
    },
    {
      "cell_type": "markdown",
      "metadata": {},
      "source": [
        "## Set non-graphical mode\nSet non-graphical mode. The default is ``False``.\n\n"
      ]
    },
    {
      "cell_type": "code",
      "execution_count": null,
      "metadata": {
        "collapsed": false
      },
      "outputs": [],
      "source": [
        "non_graphical = os.getenv(\"PYAEDT_NON_GRAPHICAL\", \"False\").lower() in (\"true\", \"1\", \"t\")\nNewThread = True"
      ]
    },
    {
      "cell_type": "markdown",
      "metadata": {},
      "source": [
        "## Launch AEDT with Circuit\nLaunch AEDT with Circuit. The :class:`pyaedt.Desktop` class initializes AEDT\nand starts it on the specified version in the specified graphical mode. The Boolean\nparameter ``NewThread`` defines whether to create a new instance of AEDT or try\nto connect to an existing instance of it.\n\n"
      ]
    },
    {
      "cell_type": "code",
      "execution_count": null,
      "metadata": {
        "collapsed": false
      },
      "outputs": [],
      "source": [
        "desktop = Desktop(desktopVersion, non_graphical, NewThread)\naedtapp = Circuit()"
      ]
    },
    {
      "cell_type": "markdown",
      "metadata": {},
      "source": [
        "## Save project to temporary folder\nSave the project to the temporary folder. You can change this folder.\n\n"
      ]
    },
    {
      "cell_type": "code",
      "execution_count": null,
      "metadata": {
        "collapsed": false
      },
      "outputs": [],
      "source": [
        "aedtapp.save_project(os.path.join(temp_folder, \"my_firt_netlist.aedt\"))"
      ]
    },
    {
      "cell_type": "markdown",
      "metadata": {},
      "source": [
        "## Define design variable\nDefine a design variable by using a ``$`` prefix.\n\n"
      ]
    },
    {
      "cell_type": "code",
      "execution_count": null,
      "metadata": {
        "collapsed": false
      },
      "outputs": [],
      "source": [
        "aedtapp[\"Voltage\"] = \"5\""
      ]
    },
    {
      "cell_type": "markdown",
      "metadata": {},
      "source": [
        "## Create schematic from netlist file\nCreate a schematic from a netlist file. The ``create_schematic_from_netlist``\nmethod reads the netlist file and parses it. All components are parsed\nbut only these specified categories are mapped: R, L, C, Q, U, J, V, and I.\n\n"
      ]
    },
    {
      "cell_type": "code",
      "execution_count": null,
      "metadata": {
        "collapsed": false
      },
      "outputs": [],
      "source": [
        "aedtapp.create_schematic_from_netlist(myfile)"
      ]
    },
    {
      "cell_type": "markdown",
      "metadata": {},
      "source": [
        "## Close project and release AEDT\nAfter adding any other desired functionalities, close the project and release\nAEDT.\n\n"
      ]
    },
    {
      "cell_type": "code",
      "execution_count": null,
      "metadata": {
        "collapsed": false
      },
      "outputs": [],
      "source": [
        "if os.name != \"posix\":\n    desktop.release_desktop()"
      ]
    }
  ],
  "metadata": {
    "kernelspec": {
      "display_name": "Python 3",
      "language": "python",
      "name": "python3"
    },
    "language_info": {
      "codemirror_mode": {
        "name": "ipython",
        "version": 3
      },
      "file_extension": ".py",
      "mimetype": "text/x-python",
      "name": "python",
      "nbconvert_exporter": "python",
      "pygments_lexer": "ipython3",
      "version": "3.8.10"
    }
  },
  "nbformat": 4,
  "nbformat_minor": 0
}