{
  "cells": [
    {
      "cell_type": "code",
      "execution_count": null,
      "metadata": {
        "collapsed": false
      },
      "outputs": [],
      "source": [
        "%matplotlib inline"
      ]
    },
    {
      "cell_type": "markdown",
      "metadata": {},
      "source": [
        "\n# SBR+: HFSS to SBR+ coupling\nThis example shows how you can use PyAEDT to create an SBR+ project from an\nHFSS antenna and run a simulation.\n"
      ]
    },
    {
      "cell_type": "markdown",
      "metadata": {},
      "source": [
        "## Import packages\nImport packages and set up the local path to the path for the ``PyAEDT``\ndirectory.\n\n"
      ]
    },
    {
      "cell_type": "code",
      "execution_count": null,
      "metadata": {
        "collapsed": false
      },
      "outputs": [],
      "source": [
        "import os\nimport tempfile\nfrom pyaedt import examples, generate_unique_name\n\nproject_full_name = examples.download_sbr()\nproject_name = os.path.basename(project_full_name)[:-5]\ntmpfold = tempfile.gettempdir()\n\n\ntemp_folder = os.path.join(tmpfold, generate_unique_name(\"SBR\"))\nif not os.path.exists(temp_folder):\n    os.mkdir(temp_folder)\nfrom pyaedt import Hfss"
      ]
    },
    {
      "cell_type": "markdown",
      "metadata": {},
      "source": [
        "## Set non-graphical mode\nSet non-graphical mode. The default is ``False``.\n\n"
      ]
    },
    {
      "cell_type": "code",
      "execution_count": null,
      "metadata": {
        "collapsed": false
      },
      "outputs": [],
      "source": [
        "non_graphical = os.getenv(\"PYAEDT_NON_GRAPHICAL\", \"False\").lower() in (\"true\", \"1\", \"t\")"
      ]
    },
    {
      "cell_type": "markdown",
      "metadata": {},
      "source": [
        "## Define designs\nDefine two designs, one source and one target, with each one connected to\na different object.\n\n"
      ]
    },
    {
      "cell_type": "code",
      "execution_count": null,
      "metadata": {
        "collapsed": false
      },
      "outputs": [],
      "source": [
        "target = Hfss(\n    projectname=project_full_name,\n    designname=\"Cassegrain_\",\n    solution_type=\"SBR+\",\n    specified_version=\"2022.2\",\n    new_desktop_session=True,\n    non_graphical=non_graphical\n)\ntarget.save_project(os.path.join(temp_folder, project_name + \".aedt\"))\nsource = Hfss(projectname=project_name, designname=\"feeder\", specified_version=\"2022.2\", new_desktop_session=False)"
      ]
    },
    {
      "cell_type": "markdown",
      "metadata": {},
      "source": [
        "## Define linked antenna\nDefine a linked antenna. This is HFSS far field applied to SBR+.\n\n"
      ]
    },
    {
      "cell_type": "code",
      "execution_count": null,
      "metadata": {
        "collapsed": false
      },
      "outputs": [],
      "source": [
        "target.create_sbr_linked_antenna(source, target_cs=\"feederPosition\", fieldtype=\"farfield\")"
      ]
    },
    {
      "cell_type": "markdown",
      "metadata": {},
      "source": [
        "## Assign boundaries\nAssign boundaries.\n\n"
      ]
    },
    {
      "cell_type": "code",
      "execution_count": null,
      "metadata": {
        "collapsed": false
      },
      "outputs": [],
      "source": [
        "target.assign_perfecte_to_sheets([\"Reflector\", \"Subreflector\"])\ntarget.mesh.assign_curvilinear_elements([\"Reflector\", \"Subreflector\"])"
      ]
    },
    {
      "cell_type": "markdown",
      "metadata": {},
      "source": [
        "## Plot model\nPlot the model.\n\n"
      ]
    },
    {
      "cell_type": "code",
      "execution_count": null,
      "metadata": {
        "collapsed": false
      },
      "outputs": [],
      "source": [
        "source.plot(show=False, export_path=os.path.join(target.working_directory, \"Image.jpg\"), plot_air_objects=True)"
      ]
    },
    {
      "cell_type": "markdown",
      "metadata": {},
      "source": [
        "## Create setup and solve\nCreate a setup and solve it.\n\n"
      ]
    },
    {
      "cell_type": "code",
      "execution_count": null,
      "metadata": {
        "collapsed": false
      },
      "outputs": [],
      "source": [
        "setup1 = target.create_setup()\nsetup1.props[\"RadiationSetup\"] = \"ATK_3D\"\nsetup1.props[\"ComputeFarFields\"] = True\nsetup1.props[\"RayDensityPerWavelength\"] = 2\nsetup1.props[\"MaxNumberOfBounces\"] = 3\nsetup1[\"RangeType\"] = \"SinglePoints\"\nsetup1[\"RangeStart\"] = \"10GHz\"\ntarget.analyze_nominal()"
      ]
    },
    {
      "cell_type": "markdown",
      "metadata": {},
      "source": [
        "## Plot results\nPlot results.\n\n"
      ]
    },
    {
      "cell_type": "code",
      "execution_count": null,
      "metadata": {
        "collapsed": false
      },
      "outputs": [],
      "source": [
        "variations = target.available_variations.nominal_w_values_dict\nvariations[\"Freq\"] = [\"10GHz\"]\nvariations[\"Theta\"] = [\"All\"]\nvariations[\"Phi\"] = [\"All\"]\ntarget.post.create_report(\n    \"db(GainTotal)\",\n    target.nominal_adaptive,\n    variations=variations,\n    primary_sweep_variable=\"Theta\",\n    context=\"ATK_3D\",\n    report_category=\"Far Fields\",\n)"
      ]
    },
    {
      "cell_type": "markdown",
      "metadata": {},
      "source": [
        "## Plot results outside AEDT\nPlot results using Matplotlib.\n\n"
      ]
    },
    {
      "cell_type": "code",
      "execution_count": null,
      "metadata": {
        "collapsed": false
      },
      "outputs": [],
      "source": [
        "solution = target.post.get_solution_data(\n    \"GainTotal\",\n    target.nominal_adaptive,\n    variations=variations,\n    primary_sweep_variable=\"Theta\",\n    context=\"ATK_3D\",\n    report_category=\"Far Fields\",\n)\nsolution.plot()"
      ]
    },
    {
      "cell_type": "markdown",
      "metadata": {},
      "source": [
        "## Release AEDT\nRelease AEDT and close the example.\n\n"
      ]
    },
    {
      "cell_type": "code",
      "execution_count": null,
      "metadata": {
        "collapsed": false
      },
      "outputs": [],
      "source": [
        "if os.name != \"posix\":\n    target.release_desktop()"
      ]
    }
  ],
  "metadata": {
    "kernelspec": {
      "display_name": "Python 3",
      "language": "python",
      "name": "python3"
    },
    "language_info": {
      "codemirror_mode": {
        "name": "ipython",
        "version": 3
      },
      "file_extension": ".py",
      "mimetype": "text/x-python",
      "name": "python",
      "nbconvert_exporter": "python",
      "pygments_lexer": "ipython3",
      "version": "3.8.10"
    }
  },
  "nbformat": 4,
  "nbformat_minor": 0
}