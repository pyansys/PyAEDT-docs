{
  "cells": [
    {
      "cell_type": "code",
      "execution_count": null,
      "metadata": {
        "collapsed": false
      },
      "outputs": [],
      "source": [
        "%matplotlib inline"
      ]
    },
    {
      "cell_type": "markdown",
      "metadata": {},
      "source": [
        "\n# EDB: fully parameterized design\nThis example shows how to use HFSS 3D Layout to create and solve a parametric design.\n"
      ]
    },
    {
      "cell_type": "markdown",
      "metadata": {},
      "source": [
        "## Import object\nImport the ``Hfss3dlayout`` object and initialize it on version 2022 R2.\n\n"
      ]
    },
    {
      "cell_type": "code",
      "execution_count": null,
      "metadata": {
        "collapsed": false
      },
      "outputs": [],
      "source": [
        "import tempfile\nfrom pyaedt import Edb\nfrom pyaedt.generic.general_methods import generate_unique_name\nfrom pyaedt import Hfss3dLayout\nimport os"
      ]
    },
    {
      "cell_type": "markdown",
      "metadata": {},
      "source": [
        "## Set non-graphical mode\nSet non-graphical mode. The default is ``False``.\n\n"
      ]
    },
    {
      "cell_type": "code",
      "execution_count": null,
      "metadata": {
        "collapsed": false
      },
      "outputs": [],
      "source": [
        "non_graphical = os.getenv(\"PYAEDT_NON_GRAPHICAL\", \"False\").lower() in (\"true\", \"1\", \"t\")"
      ]
    },
    {
      "cell_type": "markdown",
      "metadata": {},
      "source": [
        "## Launch EDB\nLaunch EDT.\n\n"
      ]
    },
    {
      "cell_type": "code",
      "execution_count": null,
      "metadata": {
        "collapsed": false
      },
      "outputs": [],
      "source": [
        "tmpfold = tempfile.gettempdir()\naedb_path = os.path.join(tmpfold, generate_unique_name(\"pcb\") + \".aedb\")\nprint(aedb_path)\nedb = Edb(edbpath=aedb_path, edbversion=\"2022.2\")"
      ]
    },
    {
      "cell_type": "markdown",
      "metadata": {},
      "source": [
        "## Define parameters\n\n"
      ]
    },
    {
      "cell_type": "code",
      "execution_count": null,
      "metadata": {
        "collapsed": false
      },
      "outputs": [],
      "source": [
        "params = {\"$ms_width\": \"0.4mm\",\n          \"$sl_width\": \"0.2mm\",\n          \"$ms_spacing\": \"0.2mm\",\n          \"$sl_spacing\": \"0.1mm\",\n          \"$via_spacing\": \"0.5mm\",\n          \"$via_diam\": \"0.3mm\",\n          \"$pad_diam\": \"0.6mm\",\n          \"$anti_pad_diam\": \"0.7mm\",\n          \"$pcb_len\": \"30mm\",\n          \"$pcb_w\": \"5mm\",\n          \"$x_size\": \"1.2mm\",\n          \"$y_size\": \"1mm\",\n          \"$corner_rad\": \"0.5mm\"}\n\nfor par_name in params:\n    edb.add_design_variable(par_name, params[par_name])"
      ]
    },
    {
      "cell_type": "markdown",
      "metadata": {},
      "source": [
        "## Define stackup layers\nDefine stackup layers from bottom to top.\nNote that in the stackup definition, layer_type = (0:signal, 1:dielectric).\n\n"
      ]
    },
    {
      "cell_type": "code",
      "execution_count": null,
      "metadata": {
        "collapsed": false
      },
      "outputs": [],
      "source": [
        "layers = [{\"name\": \"bottom\", \"layer_type\": 0, \"thickness\": \"35um\", \"material\": \"copper\"},\n          {\"name\": \"diel_3\", \"layer_type\": 1, \"thickness\": \"275um\", \"material\": \"FR4_epoxy\"},\n          {\"name\": \"sig_2\", \"layer_type\": 0, \"thickness\": \"35um\", \"material\": \"copper\"},\n          {\"name\": \"diel_2\", \"layer_type\": 1, \"thickness\": \"275um\", \"material\": \"FR4_epoxy\"},\n          {\"name\": \"sig_1\", \"layer_type\": 0, \"thickness\": \"35um\", \"material\": \"copper\"},\n          {\"name\": \"diel_1\", \"layer_type\": 1, \"thickness\": \"275um\", \"material\": \"FR4_epoxy\"},\n          {\"name\": \"top\", \"layer_type\": 0, \"thickness\": \"35um\", \"material\": \"copper\"}]\n\n\n# Create EDB stackup.\n# Bottom layer\n\nedb.core_stackup.stackup_layers.add_layer(layers[0][\"name\"],\n                                          layerType=layers[0][\"layer_type\"],\n                                          thickness=layers[0][\"thickness\"],\n                                          material=layers[0][\"material\"])  # Insert first layer\n# All subsequent layers\n\nfor n in range(len(layers)-1):\n    edb.core_stackup.stackup_layers.add_layer(layers[n+1][\"name\"],\n                                              layers[n][\"name\"],\n                                              layerType=layers[n+1][\"layer_type\"],\n                                              thickness=layers[n+1][\"thickness\"],\n                                              material=layers[n+1][\"material\"])"
      ]
    },
    {
      "cell_type": "markdown",
      "metadata": {},
      "source": [
        "## Create padstack for signal via\nCreate a parameterized padstack for the signal via.\n\n"
      ]
    },
    {
      "cell_type": "code",
      "execution_count": null,
      "metadata": {
        "collapsed": false
      },
      "outputs": [],
      "source": [
        "signal_via_padstack = \"automated_via\"\nedb.core_padstack.create_padstack(\n            padstackname=signal_via_padstack,\n            holediam=\"$via_diam\",\n            paddiam=\"$pad_diam\",\n            antipaddiam=\"\",\n            startlayer=\"top\",\n            endlayer=\"bottom\",\n            antipad_shape=\"Bullet\",\n            x_size=\"$x_size\",\n            y_size=\"$y_size\",\n            corner_radius=\"$corner_rad\",\n        )"
      ]
    },
    {
      "cell_type": "markdown",
      "metadata": {},
      "source": [
        "## Assign net names\n# Assign net names. There are only two signal nets.\n\n"
      ]
    },
    {
      "cell_type": "code",
      "execution_count": null,
      "metadata": {
        "collapsed": false
      },
      "outputs": [],
      "source": [
        "net_p = \"p\"\nnet_n = \"n\""
      ]
    },
    {
      "cell_type": "markdown",
      "metadata": {},
      "source": [
        "## Place signal vias\nPlace signal vias.\n\n"
      ]
    },
    {
      "cell_type": "code",
      "execution_count": null,
      "metadata": {
        "collapsed": false
      },
      "outputs": [],
      "source": [
        "edb.core_padstack.place_padstack(\n            position=[\"$pcb_len/3\", \"($ms_width+$ms_spacing+$via_spacing)/2\"],\n            definition_name=signal_via_padstack,\n            net_name=net_p,\n            via_name=\"\",\n            rotation=90.0,\n            fromlayer=layers[-1][\"name\"],\n            tolayer=layers[0][\"name\"],)\n\nedb.core_padstack.place_padstack(\n            position=[\"2*$pcb_len/3\", \"($ms_width+$ms_spacing+$via_spacing)/2\"],\n            definition_name=signal_via_padstack,\n            net_name=net_p,\n            via_name=\"\",\n            rotation=90.0,\n            fromlayer=layers[-1][\"name\"],\n            tolayer=layers[0][\"name\"],)\n\nedb.core_padstack.place_padstack(\n            position=[\"$pcb_len/3\", \"-($ms_width+$ms_spacing+$via_spacing)/2\"],\n            definition_name=signal_via_padstack,\n            net_name=net_n,\n            via_name=\"\",\n            rotation=-90.0,\n            fromlayer=layers[-1][\"name\"],\n            tolayer=layers[0][\"name\"],)\n\nedb.core_padstack.place_padstack(\n            position=[\"2*$pcb_len/3\", \"-($ms_width+$ms_spacing+$via_spacing)/2\"],\n            definition_name=signal_via_padstack,\n            net_name=net_n,\n            via_name=\"\",\n            rotation=-90.0,\n            fromlayer=layers[-1][\"name\"],\n            tolayer=layers[0][\"name\"],)\n\n\n# ###############################################################################\n# Draw parameterized traces\n# ~~~~~~~~~~~~~~~~~~~~~~~~~\n# Draw parameterized traces.\n# Trace the width and the routing (Microstrip-Stripline-Microstrip).\n# Applies to both p and n nets.\n\nwidth = [\"$ms_width\", \"$sl_width\", \"$ms_width\"]                       # Trace width, n and p\nroute_layer = [layers[-1][\"name\"], layers[4][\"name\"], layers[-1][\"name\"]]    # Routing layer, n and p\n\n# Define points for three traces in the \"p\" net\n\npoints_p = [\n           [[\"0.0\", \"($ms_width+$ms_spacing)/2\"],\n            [\"$pcb_len/3-2*$via_spacing\", \"($ms_width+$ms_spacing)/2\"],\n            [\"$pcb_len/3-$via_spacing\", \"($ms_width+$ms_spacing+$via_spacing)/2\"],\n            [\"$pcb_len/3\", \"($ms_width+$ms_spacing+$via_spacing)/2\"],\n           ],\n           [[\"$pcb_len/3\", \"($ms_width+$sl_spacing+$via_spacing)/2\"],\n            [\"$pcb_len/3+$via_spacing\", \"($ms_width+$sl_spacing+$via_spacing)/2\"],\n            [\"$pcb_len/3+2*$via_spacing\", \"($sl_width+$sl_spacing)/2\"],\n            [\"2*$pcb_len/3-2*$via_spacing\", \"($sl_width+$sl_spacing)/2\"],\n            [\"2*$pcb_len/3-$via_spacing\", \"($ms_width+$sl_spacing+$via_spacing)/2\"],\n            [\"2*$pcb_len/3\", \"($ms_width+$sl_spacing+$via_spacing)/2\"],\n           ],\n           [[\"2*$pcb_len/3\", \"($ms_width+$ms_spacing+$via_spacing)/2\"],\n            [\"2*$pcb_len/3+$via_spacing\", \"($ms_width+$ms_spacing+$via_spacing)/2\"],\n            [\"2*$pcb_len/3+2*$via_spacing\", \"($ms_width+$ms_spacing)/2\"],\n            [\"$pcb_len\", \"($ms_width+$ms_spacing)/2\"],\n           ],\n          ]\n\n# Define points for three traces in the \"n\" net\n\npoints_n = [\n          [[\"0.0\", \"-($ms_width+$ms_spacing)/2\"],\n           [\"$pcb_len/3-2*$via_spacing\", \"-($ms_width+$ms_spacing)/2\"],\n           [\"$pcb_len/3-$via_spacing\", \"-($ms_width+$ms_spacing+$via_spacing)/2\"],\n           [\"$pcb_len/3\", \"-($ms_width+$ms_spacing+$via_spacing)/2\"],\n          ],\n          [[\"$pcb_len/3\", \"-($ms_width+$sl_spacing+$via_spacing)/2\"],\n           [\"$pcb_len/3+$via_spacing\", \"-($ms_width+$sl_spacing+$via_spacing)/2\"],\n           [\"$pcb_len/3+2*$via_spacing\", \"-($ms_width+$sl_spacing)/2\"],\n           [\"2*$pcb_len/3-2*$via_spacing\", \"-($ms_width+$sl_spacing)/2\"],\n           [\"2*$pcb_len/3-$via_spacing\", \"-($ms_width+$sl_spacing+$via_spacing)/2\"],\n           [\"2*$pcb_len/3\", \"-($ms_width+$sl_spacing+$via_spacing)/2\"],\n          ],\n          [[\"2*$pcb_len/3\", \"-($ms_width+$ms_spacing+$via_spacing)/2\"],\n           [\"2*$pcb_len/3 + $via_spacing\", \"-($ms_width+$ms_spacing+$via_spacing)/2\"],\n           [\"2*$pcb_len/3 + 2*$via_spacing\", \"-($ms_width+$ms_spacing)/2\"],\n           [\"$pcb_len\", \"-($ms_width + $ms_spacing)/2\"],\n          ],\n         ]\n\n# Add traces to EDB\n\nfor n in range(len(points_p)):\n    path_p = edb.core_primitives.Shape(\"polygon\", points=points_p[n])\n    edb.core_primitives.create_path(path_p, route_layer[n], width[n], net_name=net_p,\n                                    start_cap_style=\"Flat\", end_cap_style=\"Flat\")\n    path_n = edb.core_primitives.Shape(\"polygon\", points=points_n[n])\n    edb.core_primitives.create_path(path_n, route_layer[n], width[n], net_name=net_n,\n                                    start_cap_style=\"Flat\", end_cap_style=\"Flat\")"
      ]
    },
    {
      "cell_type": "markdown",
      "metadata": {},
      "source": [
        "## Draw ground polygons\nDraw ground polygons.\n\n"
      ]
    },
    {
      "cell_type": "code",
      "execution_count": null,
      "metadata": {
        "collapsed": false
      },
      "outputs": [],
      "source": [
        "gnd_poly = [[0.0, \"-$pcb_w/2\"],\n            [\"$pcb_len\", \"-$pcb_w/2\"],\n            [\"$pcb_len\", \"$pcb_w/2\"],\n            [0.0, \"$pcb_w/2\"]]\ngnd_shape = edb.core_primitives.Shape(\"polygon\", points=gnd_poly)\n\n# Void in ground for traces on the signal routing layer\n\nvoid_poly = [[\"$pcb_len/3\", \"-($ms_width+$ms_spacing+$via_spacing+$anti_pad_diam)/2-$via_spacing/2\"],\n             [\"$pcb_len/3 + $via_spacing\", \"-($ms_width+$ms_spacing+$via_spacing+$anti_pad_diam)/2-$via_spacing/2\"],\n             [\"$pcb_len/3 + 2*$via_spacing\",\n             \"-($ms_width+$ms_spacing+$via_spacing+$anti_pad_diam)/2\"],\n             [\"2*$pcb_len/3 - 2*$via_spacing\",\n             \"-($ms_width+$ms_spacing+$via_spacing+$anti_pad_diam)/2\"],\n             [\"2*$pcb_len/3 - $via_spacing\",\n             \"-($ms_width+$ms_spacing+$via_spacing+$anti_pad_diam)/2-$via_spacing/2\"],\n             [\"2*$pcb_len/3\", \"-($ms_width+$ms_spacing+$via_spacing+$anti_pad_diam)/2-$via_spacing/2\"],\n             [\"2*$pcb_len/3\", \"($ms_width+$ms_spacing+$via_spacing+$anti_pad_diam)/2+$via_spacing/2\"],\n             [\"2*$pcb_len/3 - $via_spacing\", \"($ms_width+$ms_spacing+$via_spacing+$anti_pad_diam)/2+$via_spacing/2\"],\n             [\"2*$pcb_len/3 - 2*$via_spacing\", \"($ms_width+$ms_spacing+$via_spacing+$anti_pad_diam)/2\"],\n             [\"$pcb_len/3 + 2*$via_spacing\", \"($ms_width+$ms_spacing+$via_spacing+$anti_pad_diam)/2\"],\n             [\"$pcb_len/3 + $via_spacing\", \"($ms_width+$ms_spacing+$via_spacing+$anti_pad_diam)/2+$via_spacing/2\"],\n             [\"$pcb_len/3\", \"($ms_width+$ms_spacing+$via_spacing+$anti_pad_diam)/2+$via_spacing/2\"],\n             [\"$pcb_len/3\", \"($ms_width+$ms_spacing+$via_spacing+$anti_pad_diam)/2\"]]\n\nvoid_shape = edb.core_primitives.Shape(\"polygon\", points=void_poly)\n\n# Add ground layers\n\nfor layer in layers[1:-1]:\n\n    # add void if the layer is the signal routing layer.\n    void = [void_shape] if layer[\"name\"] == route_layer[1] else []\n\n    edb.core_primitives.create_polygon(main_shape=gnd_shape,\n                                       layer_name=layer[\"name\"],\n                                       voids=void,\n                                       net_name=\"gnd\")"
      ]
    },
    {
      "cell_type": "markdown",
      "metadata": {},
      "source": [
        "## Plot EDB\nPlot EDB.\n\n"
      ]
    },
    {
      "cell_type": "code",
      "execution_count": null,
      "metadata": {
        "collapsed": false
      },
      "outputs": [],
      "source": [
        "edb.core_nets.plot(None)"
      ]
    },
    {
      "cell_type": "markdown",
      "metadata": {},
      "source": [
        "## Save EDB\nSave EDB.\n\n"
      ]
    },
    {
      "cell_type": "code",
      "execution_count": null,
      "metadata": {
        "collapsed": false
      },
      "outputs": [],
      "source": [
        "edb.save_edb()\nedb.close_edb()"
      ]
    },
    {
      "cell_type": "markdown",
      "metadata": {},
      "source": [
        "## Open EDB in AEDT\nOpen EDB in AEDT.\n\n"
      ]
    },
    {
      "cell_type": "code",
      "execution_count": null,
      "metadata": {
        "collapsed": false
      },
      "outputs": [],
      "source": [
        "h3d = Hfss3dLayout(projectname=os.path.join(aedb_path, \"edb.def\"), specified_version=\"2022.2\", non_graphical=non_graphical)"
      ]
    },
    {
      "cell_type": "markdown",
      "metadata": {},
      "source": [
        "## Create wave ports\nCreate wave ports:\n\n"
      ]
    },
    {
      "cell_type": "code",
      "execution_count": null,
      "metadata": {
        "collapsed": false
      },
      "outputs": [],
      "source": [
        "h3d.create_wave_port_from_two_conductors([\"line_0\", \"line_1\"], [0, 0])\nh3d.create_wave_port_from_two_conductors([\"line_4\", \"line_5\"], [5, 5])"
      ]
    },
    {
      "cell_type": "markdown",
      "metadata": {},
      "source": [
        "## Add HFSS simulation setup\nAdd HFSS simulation setup.\n\n"
      ]
    },
    {
      "cell_type": "code",
      "execution_count": null,
      "metadata": {
        "collapsed": false
      },
      "outputs": [],
      "source": [
        "setup = h3d.create_setup()\nh3d.create_linear_count_sweep(\n    setupname=setup.name,\n    unit=\"GHz\",\n    freqstart=0,\n    freqstop=10,\n    num_of_freq_points=1001,\n    sweepname=\"sweep1\",\n    sweep_type=\"Interpolating\",\n    interpolation_tol_percent=1,\n    interpolation_max_solutions=255,\n    save_fields=False,\n    use_q3d_for_dc=False,\n)"
      ]
    },
    {
      "cell_type": "markdown",
      "metadata": {},
      "source": [
        "## Start HFSS solver\nStart HFSS solver. Uncomment to solve.\n\n"
      ]
    },
    {
      "cell_type": "code",
      "execution_count": null,
      "metadata": {
        "collapsed": false
      },
      "outputs": [],
      "source": [
        "# h3d.analyze_nominal()\n\nh3d.release_desktop()"
      ]
    },
    {
      "cell_type": "markdown",
      "metadata": {},
      "source": [
        "Note that the ground nets are only connected to each other due\nto the wave ports. The problem with poor grounding can be seen in the\nS-parameters. Try to modify this script to add ground vias and eliminate\nthe resonance.\n\n"
      ]
    }
  ],
  "metadata": {
    "kernelspec": {
      "display_name": "Python 3",
      "language": "python",
      "name": "python3"
    },
    "language_info": {
      "codemirror_mode": {
        "name": "ipython",
        "version": 3
      },
      "file_extension": ".py",
      "mimetype": "text/x-python",
      "name": "python",
      "nbconvert_exporter": "python",
      "pygments_lexer": "ipython3",
      "version": "3.8.10"
    }
  },
  "nbformat": 4,
  "nbformat_minor": 0
}