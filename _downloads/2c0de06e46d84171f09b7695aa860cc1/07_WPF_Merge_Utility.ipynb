{
  "cells": [
    {
      "cell_type": "code",
      "execution_count": null,
      "metadata": {
        "collapsed": false
      },
      "outputs": [],
      "source": [
        "%matplotlib inline"
      ]
    },
    {
      "cell_type": "markdown",
      "metadata": {},
      "source": [
        "\n# EDB: merge utility\n\nThis example shows how to use the PyAEDT toolkit to create WPF (Windows Presentation\nFoundation) for Windows usage. It runs a merge between two EDBs (package on board).\n"
      ]
    },
    {
      "cell_type": "code",
      "execution_count": null,
      "metadata": {
        "collapsed": false
      },
      "outputs": [],
      "source": [
        "# sphinx_gallery_thumbnail_path = 'Resources/merge_utility.png'"
      ]
    },
    {
      "cell_type": "markdown",
      "metadata": {},
      "source": [
        "## Download example\n\nThe example contains everything needed to run it.\nYou can customize the JSON file to change the settings.\n\n"
      ]
    },
    {
      "cell_type": "code",
      "execution_count": null,
      "metadata": {
        "collapsed": false
      },
      "outputs": [],
      "source": [
        "import tempfile\n\nfrom pyaedt.examples.downloads import download_edb_merge_utility\n\npython_file = download_edb_merge_utility(force_download=True, destination=tempfile.gettempdir())\ndesktop_version = \"2022.2\""
      ]
    },
    {
      "cell_type": "markdown",
      "metadata": {},
      "source": [
        "## Execute Python script\n\nThe Python script can be launched in AEDT (Tools->Run Script) \nor from the CPython command line.\nThis example downloads four files:\n\n- ``package.aedb`` folder containing a package example\n- ``board.aedb`` folder containing a board example\n- ``merge_wizard.py`` file containing the Python script to run\n- ``merge_wizard_settings.json`` file containing the settings\n\nYou can launch ``merge_wizard.py`` in AEDT (Tools->Run Script) or from the\nCPython command line. The script works only on Windows with UI.\n\nThe JSON file contains default settings that can be used in any other project to automatically\nload all settings.\nYou can edit the following lines to launch from the Python interpreter:\n\n"
      ]
    },
    {
      "cell_type": "code",
      "execution_count": null,
      "metadata": {
        "collapsed": false
      },
      "outputs": [],
      "source": [
        "# from pyaedt.generic.toolkit import launch\n# launch(python_file, specified_version=desktop_version, new_desktop_session=False, autosave=False)"
      ]
    }
  ],
  "metadata": {
    "kernelspec": {
      "display_name": "Python 3",
      "language": "python",
      "name": "python3"
    },
    "language_info": {
      "codemirror_mode": {
        "name": "ipython",
        "version": 3
      },
      "file_extension": ".py",
      "mimetype": "text/x-python",
      "name": "python",
      "nbconvert_exporter": "python",
      "pygments_lexer": "ipython3",
      "version": "3.8.10"
    }
  },
  "nbformat": 4,
  "nbformat_minor": 0
}