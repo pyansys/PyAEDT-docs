{
  "cells": [
    {
      "cell_type": "code",
      "execution_count": null,
      "metadata": {
        "collapsed": false
      },
      "outputs": [],
      "source": [
        "%matplotlib inline"
      ]
    },
    {
      "cell_type": "markdown",
      "metadata": {},
      "source": [
        "\n# EDB: IPC2581 export\nThis example shows how to use PyAEDT to export an IPC2581 file.\n"
      ]
    },
    {
      "cell_type": "code",
      "execution_count": null,
      "metadata": {
        "collapsed": false
      },
      "outputs": [],
      "source": [
        "# sphinx_gallery_thumbnail_path = 'Resources/ipc2581.png'"
      ]
    },
    {
      "cell_type": "markdown",
      "metadata": {},
      "source": [
        "## Import section\nImport a section.\n\n"
      ]
    },
    {
      "cell_type": "code",
      "execution_count": null,
      "metadata": {
        "collapsed": false
      },
      "outputs": [],
      "source": [
        "import shutil\nimport os\nimport tempfile\nfrom pyaedt import generate_unique_name, examples, Edb"
      ]
    },
    {
      "cell_type": "markdown",
      "metadata": {},
      "source": [
        "## Download file\nDownload the AEDB file and copy it in the temporary folder.\n\n"
      ]
    },
    {
      "cell_type": "code",
      "execution_count": null,
      "metadata": {
        "collapsed": false
      },
      "outputs": [],
      "source": [
        "tmpfold = tempfile.gettempdir()\ntemp_folder = os.path.join(tmpfold, generate_unique_name(\"Example\"))\nif not os.path.exists(temp_folder):\n    os.makedirs(temp_folder)\nexample_path = examples.download_aedb()\ntargetfolder = os.path.join(temp_folder, \"Galileo.aedb\")\nif os.path.exists(targetfolder):\n    shutil.rmtree(targetfolder)\nshutil.copytree(example_path[:-8], targetfolder)\ntargetfile = os.path.join(targetfolder)\nipc2581_file = os.path.join(temp_folder, \"Galileo.xml\")\n\nprint(targetfile)"
      ]
    },
    {
      "cell_type": "markdown",
      "metadata": {},
      "source": [
        "## Launch EDB\nLaunch the :class:`pyaedt.Edb` class, using EDB 2022 R2 and SI units.\n\n"
      ]
    },
    {
      "cell_type": "code",
      "execution_count": null,
      "metadata": {
        "collapsed": false
      },
      "outputs": [],
      "source": [
        "edb = Edb(edbpath=targetfile, edbversion=\"2022.2\")"
      ]
    },
    {
      "cell_type": "markdown",
      "metadata": {},
      "source": [
        "## Parametrize net\nParameterize a net.\n\n"
      ]
    },
    {
      "cell_type": "code",
      "execution_count": null,
      "metadata": {
        "collapsed": false
      },
      "outputs": [],
      "source": [
        "edb.core_primitives.parametrize_trace_width(\n    \"A0_N\", parameter_name=generate_unique_name(\"Par\"), variable_value=\"0.4321mm\"\n)"
      ]
    },
    {
      "cell_type": "markdown",
      "metadata": {},
      "source": [
        "## Create IPC2581 file\nCreate the IPC2581 file.\n\n"
      ]
    },
    {
      "cell_type": "code",
      "execution_count": null,
      "metadata": {
        "collapsed": false
      },
      "outputs": [],
      "source": [
        "edb.export_to_ipc2581(ipc2581_file, \"inch\")\nprint(\"IPC2581 File has been saved to {}\".format(ipc2581_file))"
      ]
    },
    {
      "cell_type": "markdown",
      "metadata": {},
      "source": [
        "## Close EDB\nClose EDB.\n\n"
      ]
    },
    {
      "cell_type": "code",
      "execution_count": null,
      "metadata": {
        "collapsed": false
      },
      "outputs": [],
      "source": [
        "edb.close_edb()"
      ]
    }
  ],
  "metadata": {
    "kernelspec": {
      "display_name": "Python 3",
      "language": "python",
      "name": "python3"
    },
    "language_info": {
      "codemirror_mode": {
        "name": "ipython",
        "version": 3
      },
      "file_extension": ".py",
      "mimetype": "text/x-python",
      "name": "python",
      "nbconvert_exporter": "python",
      "pygments_lexer": "ipython3",
      "version": "3.8.10"
    }
  },
  "nbformat": 4,
  "nbformat_minor": 0
}